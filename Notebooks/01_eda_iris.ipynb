{
 "cells": [
  {
   "cell_type": "markdown",
   "id": "a35f4943",
   "metadata": {},
   "source": [
    "# Exploratory Data Analysis"
   ]
  },
  {
   "cell_type": "markdown",
   "id": "a404f2c5",
   "metadata": {},
   "source": [
    "## Get Data"
   ]
  }
 ],
 "metadata": {
  "language_info": {
   "name": "python"
  }
 },
 "nbformat": 4,
 "nbformat_minor": 5
}
